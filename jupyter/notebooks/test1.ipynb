{
 "cells": [
  {
   "cell_type": "code",
   "execution_count": 8,
   "id": "b7fbb092-4b7f-48c6-bcf2-811c8ab29de7",
   "metadata": {},
   "outputs": [],
   "source": [
    "#name = input(\"tuo nome:\")\n",
    "#print(name)"
   ]
  },
  {
   "cell_type": "markdown",
   "id": "2a9cba4b-f3cb-49bb-87ad-f21583d58114",
   "metadata": {},
   "source": [
    "## ciao\n",
    "- ciao1\n",
    "- ciao2\n",
    "<h1>titolo</h1>"
   ]
  },
  {
   "cell_type": "code",
   "execution_count": 1,
   "id": "b3d3502d-b300-4b60-b71a-160878d345b0",
   "metadata": {},
   "outputs": [
    {
     "data": {
      "application/javascript": [
       "console.log('hello')\n"
      ],
      "text/plain": [
       "<IPython.core.display.Javascript object>"
      ]
     },
     "metadata": {},
     "output_type": "display_data"
    }
   ],
   "source": [
    "%%javascript\n",
    "console.log('hello')"
   ]
  },
  {
   "cell_type": "code",
   "execution_count": null,
   "id": "cb7390bc-b285-4370-9888-9a09853b2c0f",
   "metadata": {},
   "outputs": [],
   "source": [
    "from matplotlib import pyplot as plt\n",
    "\n",
    "x=[1,2,3,4,5,6]\n",
    "y=[0,10,120,80,40,70]\n",
    "plt.plot(x,y)"
   ]
  },
  {
   "cell_type": "code",
   "execution_count": null,
   "id": "5c49406e-448f-4267-b8eb-60b7ae53188c",
   "metadata": {},
   "outputs": [],
   "source": []
  }
 ],
 "metadata": {
  "kernelspec": {
   "display_name": "Python 3 (ipykernel)",
   "language": "python",
   "name": "python3"
  },
  "language_info": {
   "codemirror_mode": {
    "name": "ipython",
    "version": 3
   },
   "file_extension": ".py",
   "mimetype": "text/x-python",
   "name": "python",
   "nbconvert_exporter": "python",
   "pygments_lexer": "ipython3",
   "version": "3.10.6"
  }
 },
 "nbformat": 4,
 "nbformat_minor": 5
}
