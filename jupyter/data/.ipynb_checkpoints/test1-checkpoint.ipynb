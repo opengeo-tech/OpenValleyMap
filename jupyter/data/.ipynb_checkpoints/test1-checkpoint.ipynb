{
 "cells": [
  {
   "cell_type": "code",
   "execution_count": 8,
   "id": "b7fbb092-4b7f-48c6-bcf2-811c8ab29de7",
   "metadata": {},
   "outputs": [],
   "source": [
    "#name = input(\"tuo nome:\")\n",
    "#print(name)"
   ]
  },
  {
   "cell_type": "markdown",
   "id": "2a9cba4b-f3cb-49bb-87ad-f21583d58114",
   "metadata": {},
   "source": [
    "## ciao\n",
    "- ciao1\n",
    "- ciao2\n",
    "<h1>titolo</h1>"
   ]
  },
  {
   "cell_type": "code",
   "execution_count": 10,
   "id": "b3d3502d-b300-4b60-b71a-160878d345b0",
   "metadata": {},
   "outputs": [
    {
     "data": {
      "application/javascript": [
       "console.log('hello')\n"
      ],
      "text/plain": [
       "<IPython.core.display.Javascript object>"
      ]
     },
     "metadata": {},
     "output_type": "display_data"
    }
   ],
   "source": [
    "%%javascript\n",
    "console.log('hello')"
   ]
  },
  {
   "cell_type": "code",
   "execution_count": null,
   "id": "cb7390bc-b285-4370-9888-9a09853b2c0f",
   "metadata": {},
   "outputs": [],
   "source": [
    "from matplotlib import pyplot as plt\n",
    "\n",
    "x=[1,2,3,4,5,6]\n",
    "y=[0,10,120,80,40,70]\n",
    "plt.plot(x,y)"
   ]
  },
  {
   "cell_type": "code",
   "execution_count": null,
   "id": "f6904a0c-8989-4487-a0e0-69768c7c676a",
   "metadata": {},
   "outputs": [],
   "source": [
    "import rasterio\n",
    "from rasterio.plot import show\n",
    "fp = r'mocheni.tif'\n",
    "img = rasterio.open(fp)\n",
    "show(img)"
   ]
  },
  {
   "cell_type": "code",
   "execution_count": 2,
   "id": "051fe189-808a-4318-af14-c07fca7f688c",
   "metadata": {},
   "outputs": [],
   "source": [
    "#https://github.com/Deltares/pyflwdir\n",
    "import rasterio\n",
    "with rasterio.open(\"mocheni.tif\", \"r\") as src:\n",
    "    elevtn = src.read(1)\n",
    "    nodata = src.nodata\n",
    "    transform = src.transform\n",
    "    crs = src.crs"
   ]
  },
  {
   "cell_type": "code",
   "execution_count": 3,
   "id": "5f1dd077-33d1-4b00-a52b-830e664fa501",
   "metadata": {},
   "outputs": [],
   "source": [
    "import pyflwdir\n",
    "#help(pyflwdir)"
   ]
  },
  {
   "cell_type": "code",
   "execution_count": 4,
   "id": "b46a2700-b0c7-448c-bf74-9edd07e2a0c4",
   "metadata": {},
   "outputs": [
    {
     "ename": "TypingError",
     "evalue": "Failed in nopython mode pipeline (step: nopython frontend)\n\u001b[1m\u001b[1m\u001b[1mNo implementation of function Function(<ufunc 'isnan'>) found for signature:\n \n >>> isnan(none)\n \nThere are 2 candidate implementations:\n\u001b[1m   - Of which 2 did not match due to:\n   Overload in function 'Numpy_rules_ufunc.generic': File: numba/core/typing/npydecl.py: Line 98.\n     With argument(s): '(none)':\u001b[0m\n\u001b[1m    Rejected as the implementation raised a specific error:\n      TypingError: \u001b[1mcan't resolve ufunc isnan for types [none]\u001b[0m\u001b[0m\n  raised from /opt/conda/lib/python3.10/site-packages/numba/core/typing/npydecl.py:107\n\u001b[0m\n\u001b[0m\u001b[1mDuring: resolving callee type: Function(<ufunc 'isnan'>)\u001b[0m\n\u001b[0m\u001b[1mDuring: typing of call at /opt/conda/lib/python3.10/site-packages/pyflwdir/dem.py (70)\n\u001b[0m\n\u001b[1m\nFile \"../../../opt/conda/lib/python3.10/site-packages/pyflwdir/dem.py\", line 70:\u001b[0m\n\u001b[1mdef fill_depressions(\n    <source elided>\n    delv = np.zeros_like(elevtn)\n\u001b[1m    done = np.isnan(elevtn) if np.isnan(nodata) else elevtn == nodata\n\u001b[0m    \u001b[1m^\u001b[0m\u001b[0m\n",
     "output_type": "error",
     "traceback": [
      "\u001b[0;31m---------------------------------------------------------------------------\u001b[0m",
      "\u001b[0;31mTypingError\u001b[0m                               Traceback (most recent call last)",
      "Cell \u001b[0;32mIn [4], line 1\u001b[0m\n\u001b[0;32m----> 1\u001b[0m flw \u001b[38;5;241m=\u001b[39m \u001b[43mpyflwdir\u001b[49m\u001b[38;5;241;43m.\u001b[39;49m\u001b[43mfrom_dem\u001b[49m\u001b[43m(\u001b[49m\n\u001b[1;32m      2\u001b[0m \u001b[43m    \u001b[49m\u001b[43mdata\u001b[49m\u001b[38;5;241;43m=\u001b[39;49m\u001b[43melevtn\u001b[49m\u001b[43m,\u001b[49m\n\u001b[1;32m      3\u001b[0m \u001b[43m    \u001b[49m\u001b[43mnodata\u001b[49m\u001b[38;5;241;43m=\u001b[39;49m\u001b[43mnodata\u001b[49m\u001b[43m,\u001b[49m\n\u001b[1;32m      4\u001b[0m \u001b[43m    \u001b[49m\u001b[43mtransform\u001b[49m\u001b[38;5;241;43m=\u001b[39;49m\u001b[43mtransform\u001b[49m\u001b[43m,\u001b[49m\n\u001b[1;32m      5\u001b[0m \u001b[43m    \u001b[49m\u001b[43mlatlon\u001b[49m\u001b[38;5;241;43m=\u001b[39;49m\u001b[43mcrs\u001b[49m\u001b[38;5;241;43m.\u001b[39;49m\u001b[43mis_geographic\u001b[49m\u001b[43m,\u001b[49m\n\u001b[1;32m      6\u001b[0m \u001b[43m)\u001b[49m\n\u001b[1;32m      7\u001b[0m basins \u001b[38;5;241m=\u001b[39m flw\u001b[38;5;241m.\u001b[39mbasins()\n",
      "File \u001b[0;32m/opt/conda/lib/python3.10/site-packages/pyflwdir/pyflwdir.py:97\u001b[0m, in \u001b[0;36mfrom_dem\u001b[0;34m(data, nodata, max_depth, transform, latlon, outlets)\u001b[0m\n\u001b[1;32m     59\u001b[0m \u001b[38;5;124;03m\"\"\"Flow direction raster derived from digital elevation data based on steepest gradient.\u001b[39;00m\n\u001b[1;32m     60\u001b[0m \n\u001b[1;32m     61\u001b[0m \u001b[38;5;124;03mOutlets are assumed to only occur at the edge of valid elevation cells.\u001b[39;00m\n\u001b[0;32m   (...)\u001b[0m\n\u001b[1;32m     94\u001b[0m \u001b[38;5;124;03m    Actionable flow direction object\u001b[39;00m\n\u001b[1;32m     95\u001b[0m \u001b[38;5;124;03m\"\"\"\u001b[39;00m\n\u001b[1;32m     96\u001b[0m \u001b[38;5;66;03m# parse dem\u001b[39;00m\n\u001b[0;32m---> 97\u001b[0m d8 \u001b[38;5;241m=\u001b[39m \u001b[43mdem\u001b[49m\u001b[38;5;241;43m.\u001b[39;49m\u001b[43mfill_depressions\u001b[49m\u001b[43m(\u001b[49m\n\u001b[1;32m     98\u001b[0m \u001b[43m    \u001b[49m\u001b[43mdata\u001b[49m\u001b[43m,\u001b[49m\u001b[43m \u001b[49m\u001b[43mnodata\u001b[49m\u001b[38;5;241;43m=\u001b[39;49m\u001b[43mnodata\u001b[49m\u001b[43m,\u001b[49m\u001b[43m \u001b[49m\u001b[43mmax_depth\u001b[49m\u001b[38;5;241;43m=\u001b[39;49m\u001b[43mmax_depth\u001b[49m\u001b[43m,\u001b[49m\u001b[43m \u001b[49m\u001b[43moutlets\u001b[49m\u001b[38;5;241;43m=\u001b[39;49m\u001b[43moutlets\u001b[49m\n\u001b[1;32m     99\u001b[0m \u001b[43m\u001b[49m\u001b[43m)\u001b[49m[\u001b[38;5;241m1\u001b[39m]\n\u001b[1;32m    100\u001b[0m \u001b[38;5;28;01mreturn\u001b[39;00m from_array(\n\u001b[1;32m    101\u001b[0m     d8, ftype\u001b[38;5;241m=\u001b[39m\u001b[38;5;124m\"\u001b[39m\u001b[38;5;124md8\u001b[39m\u001b[38;5;124m\"\u001b[39m, check_ftype\u001b[38;5;241m=\u001b[39m\u001b[38;5;28;01mFalse\u001b[39;00m, transform\u001b[38;5;241m=\u001b[39mtransform, latlon\u001b[38;5;241m=\u001b[39mlatlon\n\u001b[1;32m    102\u001b[0m )\n",
      "File \u001b[0;32m/opt/conda/lib/python3.10/site-packages/numba/core/dispatcher.py:468\u001b[0m, in \u001b[0;36m_DispatcherBase._compile_for_args\u001b[0;34m(self, *args, **kws)\u001b[0m\n\u001b[1;32m    464\u001b[0m         msg \u001b[38;5;241m=\u001b[39m (\u001b[38;5;124mf\u001b[39m\u001b[38;5;124m\"\u001b[39m\u001b[38;5;132;01m{\u001b[39;00m\u001b[38;5;28mstr\u001b[39m(e)\u001b[38;5;241m.\u001b[39mrstrip()\u001b[38;5;132;01m}\u001b[39;00m\u001b[38;5;124m \u001b[39m\u001b[38;5;130;01m\\n\u001b[39;00m\u001b[38;5;130;01m\\n\u001b[39;00m\u001b[38;5;124mThis error may have been caused \u001b[39m\u001b[38;5;124m\"\u001b[39m\n\u001b[1;32m    465\u001b[0m                \u001b[38;5;124mf\u001b[39m\u001b[38;5;124m\"\u001b[39m\u001b[38;5;124mby the following argument(s):\u001b[39m\u001b[38;5;130;01m\\n\u001b[39;00m\u001b[38;5;132;01m{\u001b[39;00margs_str\u001b[38;5;132;01m}\u001b[39;00m\u001b[38;5;130;01m\\n\u001b[39;00m\u001b[38;5;124m\"\u001b[39m)\n\u001b[1;32m    466\u001b[0m         e\u001b[38;5;241m.\u001b[39mpatch_message(msg)\n\u001b[0;32m--> 468\u001b[0m     \u001b[43merror_rewrite\u001b[49m\u001b[43m(\u001b[49m\u001b[43me\u001b[49m\u001b[43m,\u001b[49m\u001b[43m \u001b[49m\u001b[38;5;124;43m'\u001b[39;49m\u001b[38;5;124;43mtyping\u001b[39;49m\u001b[38;5;124;43m'\u001b[39;49m\u001b[43m)\u001b[49m\n\u001b[1;32m    469\u001b[0m \u001b[38;5;28;01mexcept\u001b[39;00m errors\u001b[38;5;241m.\u001b[39mUnsupportedError \u001b[38;5;28;01mas\u001b[39;00m e:\n\u001b[1;32m    470\u001b[0m     \u001b[38;5;66;03m# Something unsupported is present in the user code, add help info\u001b[39;00m\n\u001b[1;32m    471\u001b[0m     error_rewrite(e, \u001b[38;5;124m'\u001b[39m\u001b[38;5;124munsupported_error\u001b[39m\u001b[38;5;124m'\u001b[39m)\n",
      "File \u001b[0;32m/opt/conda/lib/python3.10/site-packages/numba/core/dispatcher.py:409\u001b[0m, in \u001b[0;36m_DispatcherBase._compile_for_args.<locals>.error_rewrite\u001b[0;34m(e, issue_type)\u001b[0m\n\u001b[1;32m    407\u001b[0m     \u001b[38;5;28;01mraise\u001b[39;00m e\n\u001b[1;32m    408\u001b[0m \u001b[38;5;28;01melse\u001b[39;00m:\n\u001b[0;32m--> 409\u001b[0m     \u001b[38;5;28;01mraise\u001b[39;00m e\u001b[38;5;241m.\u001b[39mwith_traceback(\u001b[38;5;28;01mNone\u001b[39;00m)\n",
      "\u001b[0;31mTypingError\u001b[0m: Failed in nopython mode pipeline (step: nopython frontend)\n\u001b[1m\u001b[1m\u001b[1mNo implementation of function Function(<ufunc 'isnan'>) found for signature:\n \n >>> isnan(none)\n \nThere are 2 candidate implementations:\n\u001b[1m   - Of which 2 did not match due to:\n   Overload in function 'Numpy_rules_ufunc.generic': File: numba/core/typing/npydecl.py: Line 98.\n     With argument(s): '(none)':\u001b[0m\n\u001b[1m    Rejected as the implementation raised a specific error:\n      TypingError: \u001b[1mcan't resolve ufunc isnan for types [none]\u001b[0m\u001b[0m\n  raised from /opt/conda/lib/python3.10/site-packages/numba/core/typing/npydecl.py:107\n\u001b[0m\n\u001b[0m\u001b[1mDuring: resolving callee type: Function(<ufunc 'isnan'>)\u001b[0m\n\u001b[0m\u001b[1mDuring: typing of call at /opt/conda/lib/python3.10/site-packages/pyflwdir/dem.py (70)\n\u001b[0m\n\u001b[1m\nFile \"../../../opt/conda/lib/python3.10/site-packages/pyflwdir/dem.py\", line 70:\u001b[0m\n\u001b[1mdef fill_depressions(\n    <source elided>\n    delv = np.zeros_like(elevtn)\n\u001b[1m    done = np.isnan(elevtn) if np.isnan(nodata) else elevtn == nodata\n\u001b[0m    \u001b[1m^\u001b[0m\u001b[0m\n"
     ]
    }
   ],
   "source": [
    "flw = pyflwdir.from_dem(\n",
    "    data=elevtn,\n",
    "    nodata=nodata,\n",
    "    transform=transform,\n",
    "    latlon=crs.is_geographic,\n",
    ")\n",
    "basins = flw.basins()"
   ]
  },
  {
   "cell_type": "code",
   "execution_count": 31,
   "id": "82a98fa4-3dc0-48b4-a697-9c9f6fcc41e2",
   "metadata": {},
   "outputs": [
    {
     "ename": "TypeError",
     "evalue": "'module' object is not callable",
     "output_type": "error",
     "traceback": [
      "\u001b[0;31m---------------------------------------------------------------------------\u001b[0m",
      "\u001b[0;31mTypeError\u001b[0m                                 Traceback (most recent call last)",
      "Cell \u001b[0;32mIn [31], line 2\u001b[0m\n\u001b[1;32m      1\u001b[0m \u001b[38;5;28;01mimport\u001b[39;00m \u001b[38;5;21;01mgeopandas\u001b[39;00m \u001b[38;5;28;01mas\u001b[39;00m \u001b[38;5;21;01mgpd\u001b[39;00m\n\u001b[0;32m----> 2\u001b[0m feat \u001b[38;5;241m=\u001b[39m \u001b[43mflw\u001b[49m\u001b[38;5;241;43m.\u001b[39;49m\u001b[43mstreams\u001b[49m\u001b[43m(\u001b[49m\u001b[43m)\u001b[49m\n\u001b[1;32m      3\u001b[0m gdf \u001b[38;5;241m=\u001b[39m gpd\u001b[38;5;241m.\u001b[39mGeoDataFrame\u001b[38;5;241m.\u001b[39mfrom_features(feats, crs\u001b[38;5;241m=\u001b[39mcrs)\n\u001b[1;32m      4\u001b[0m gdf\u001b[38;5;241m.\u001b[39mto_file(\u001b[38;5;124m'\u001b[39m\u001b[38;5;124mstreams.geojson\u001b[39m\u001b[38;5;124m'\u001b[39m, driver\u001b[38;5;241m=\u001b[39m\u001b[38;5;124m'\u001b[39m\u001b[38;5;124mGeoJSON\u001b[39m\u001b[38;5;124m'\u001b[39m)\n",
      "\u001b[0;31mTypeError\u001b[0m: 'module' object is not callable"
     ]
    }
   ],
   "source": [
    "import geopandas as gpd\n",
    "feat = flw.streams()\n",
    "gdf = gpd.GeoDataFrame.from_features(feats, crs=crs)\n",
    "gdf.to_file('streams.geojson', driver='GeoJSON')"
   ]
  },
  {
   "cell_type": "code",
   "execution_count": null,
   "id": "5c49406e-448f-4267-b8eb-60b7ae53188c",
   "metadata": {},
   "outputs": [],
   "source": []
  }
 ],
 "metadata": {
  "kernelspec": {
   "display_name": "Python 3 (ipykernel)",
   "language": "python",
   "name": "python3"
  },
  "language_info": {
   "codemirror_mode": {
    "name": "ipython",
    "version": 3
   },
   "file_extension": ".py",
   "mimetype": "text/x-python",
   "name": "python",
   "nbconvert_exporter": "python",
   "pygments_lexer": "ipython3",
   "version": "3.10.6"
  }
 },
 "nbformat": 4,
 "nbformat_minor": 5
}
